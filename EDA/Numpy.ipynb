{
 "cells": [
  {
   "cell_type": "code",
   "id": "initial_id",
   "metadata": {
    "collapsed": true,
    "ExecuteTime": {
     "end_time": "2024-10-16T13:23:33.106904Z",
     "start_time": "2024-10-16T13:23:33.007761Z"
    }
   },
   "source": "import numpy as np",
   "outputs": [],
   "execution_count": 2
  },
  {
   "metadata": {
    "ExecuteTime": {
     "end_time": "2024-10-16T06:08:23.660176Z",
     "start_time": "2024-10-16T06:08:23.656165Z"
    }
   },
   "cell_type": "code",
   "source": [
    "a1=np.array([1,2,3])\n",
    "print(a1)"
   ],
   "id": "a35453dd74cbde7a",
   "outputs": [
    {
     "name": "stdout",
     "output_type": "stream",
     "text": [
      "[1 2 3]\n"
     ]
    }
   ],
   "execution_count": 2
  },
  {
   "metadata": {
    "ExecuteTime": {
     "end_time": "2024-10-16T06:08:32.055680Z",
     "start_time": "2024-10-16T06:08:32.049670Z"
    }
   },
   "cell_type": "code",
   "source": "type(a1)",
   "id": "b89c978ed9ac9721",
   "outputs": [
    {
     "data": {
      "text/plain": [
       "numpy.ndarray"
      ]
     },
     "execution_count": 3,
     "metadata": {},
     "output_type": "execute_result"
    }
   ],
   "execution_count": 3
  },
  {
   "metadata": {
    "ExecuteTime": {
     "end_time": "2024-10-16T06:11:57.470783Z",
     "start_time": "2024-10-16T06:11:57.461416Z"
    }
   },
   "cell_type": "code",
   "source": [
    "a2=np.array([[1,2,3.3],\n",
    "            [4,5,6.5]])\n",
    "a2"
   ],
   "id": "200104b1ba18f7db",
   "outputs": [
    {
     "data": {
      "text/plain": [
       "array([[1. , 2. , 3.3],\n",
       "       [4. , 5. , 6.5]])"
      ]
     },
     "execution_count": 4,
     "metadata": {},
     "output_type": "execute_result"
    }
   ],
   "execution_count": 4
  },
  {
   "metadata": {
    "ExecuteTime": {
     "end_time": "2024-10-16T06:12:05.125868Z",
     "start_time": "2024-10-16T06:12:05.122562Z"
    }
   },
   "cell_type": "code",
   "source": [
    "import numpy as np\n",
    "\n",
    "# Create a 3x3x3 array (3 layers of 3x3 matrices)\n",
    "array_3d = np.array([[[1, 2, 3], [4, 5, 6], [7, 8, 9]],\n",
    "                     [[10, 11, 12], [13, 14, 15], [16, 17, 18]],\n",
    "                     [[19, 20, 21], [22, 23, 24], [25, 26, 27]]])\n",
    "\n",
    "print(array_3d)\n"
   ],
   "id": "8c496c8f284aa921",
   "outputs": [
    {
     "name": "stdout",
     "output_type": "stream",
     "text": [
      "[[[ 1  2  3]\n",
      "  [ 4  5  6]\n",
      "  [ 7  8  9]]\n",
      "\n",
      " [[10 11 12]\n",
      "  [13 14 15]\n",
      "  [16 17 18]]\n",
      "\n",
      " [[19 20 21]\n",
      "  [22 23 24]\n",
      "  [25 26 27]]]\n"
     ]
    }
   ],
   "execution_count": 5
  },
  {
   "metadata": {
    "ExecuteTime": {
     "end_time": "2024-10-16T06:12:20.522682Z",
     "start_time": "2024-10-16T06:12:20.518533Z"
    }
   },
   "cell_type": "code",
   "source": "array_3d",
   "id": "f46808c5204f4a48",
   "outputs": [
    {
     "data": {
      "text/plain": [
       "array([[[ 1,  2,  3],\n",
       "        [ 4,  5,  6],\n",
       "        [ 7,  8,  9]],\n",
       "\n",
       "       [[10, 11, 12],\n",
       "        [13, 14, 15],\n",
       "        [16, 17, 18]],\n",
       "\n",
       "       [[19, 20, 21],\n",
       "        [22, 23, 24],\n",
       "        [25, 26, 27]]])"
      ]
     },
     "execution_count": 6,
     "metadata": {},
     "output_type": "execute_result"
    }
   ],
   "execution_count": 6
  },
  {
   "metadata": {
    "ExecuteTime": {
     "end_time": "2024-10-16T06:13:14.081163Z",
     "start_time": "2024-10-16T06:13:14.077399Z"
    }
   },
   "cell_type": "code",
   "source": "array_3d.shape",
   "id": "4b3cdd3978e6ff85",
   "outputs": [
    {
     "data": {
      "text/plain": [
       "(3, 3, 3)"
      ]
     },
     "execution_count": 8,
     "metadata": {},
     "output_type": "execute_result"
    }
   ],
   "execution_count": 8
  },
  {
   "metadata": {
    "ExecuteTime": {
     "end_time": "2024-10-16T06:15:50.193127Z",
     "start_time": "2024-10-16T06:15:50.186135Z"
    }
   },
   "cell_type": "code",
   "source": "a2.shape",
   "id": "709be102814c0b57",
   "outputs": [
    {
     "data": {
      "text/plain": [
       "(2, 3)"
      ]
     },
     "execution_count": 9,
     "metadata": {},
     "output_type": "execute_result"
    }
   ],
   "execution_count": 9
  },
  {
   "metadata": {
    "ExecuteTime": {
     "end_time": "2024-10-16T06:16:14.210768Z",
     "start_time": "2024-10-16T06:16:14.204923Z"
    }
   },
   "cell_type": "code",
   "source": "a1.ndim",
   "id": "80095045265ff3a",
   "outputs": [
    {
     "data": {
      "text/plain": [
       "1"
      ]
     },
     "execution_count": 10,
     "metadata": {},
     "output_type": "execute_result"
    }
   ],
   "execution_count": 10
  },
  {
   "metadata": {
    "ExecuteTime": {
     "end_time": "2024-10-16T06:16:24.473084Z",
     "start_time": "2024-10-16T06:16:24.469640Z"
    }
   },
   "cell_type": "code",
   "source": "a2.ndim",
   "id": "d845411992265541",
   "outputs": [
    {
     "data": {
      "text/plain": [
       "2"
      ]
     },
     "execution_count": 12,
     "metadata": {},
     "output_type": "execute_result"
    }
   ],
   "execution_count": 12
  },
  {
   "metadata": {
    "ExecuteTime": {
     "end_time": "2024-10-16T06:17:38.788619Z",
     "start_time": "2024-10-16T06:17:38.784731Z"
    }
   },
   "cell_type": "code",
   "source": [
    "a3 = np.array([[[1, 2, 3], [4, 5, 6], [7, 8, 9]],\n",
    "                [[10, 11, 12], [13, 14, 15], [16, 17, 18]],\n",
    "                [[19, 20, 21], [22, 23, 24], [25, 26, 27]]])\n",
    "\n",
    "a3\n"
   ],
   "id": "9a8e03d6d446282f",
   "outputs": [
    {
     "data": {
      "text/plain": [
       "array([[[ 1,  2,  3],\n",
       "        [ 4,  5,  6],\n",
       "        [ 7,  8,  9]],\n",
       "\n",
       "       [[10, 11, 12],\n",
       "        [13, 14, 15],\n",
       "        [16, 17, 18]],\n",
       "\n",
       "       [[19, 20, 21],\n",
       "        [22, 23, 24],\n",
       "        [25, 26, 27]]])"
      ]
     },
     "execution_count": 14,
     "metadata": {},
     "output_type": "execute_result"
    }
   ],
   "execution_count": 14
  },
  {
   "metadata": {
    "ExecuteTime": {
     "end_time": "2024-10-16T06:17:53.467277Z",
     "start_time": "2024-10-16T06:17:53.464939Z"
    }
   },
   "cell_type": "code",
   "source": "a2.ndim,a3.ndim",
   "id": "59a6b3cfdb703b86",
   "outputs": [
    {
     "data": {
      "text/plain": [
       "(2, 3)"
      ]
     },
     "execution_count": 15,
     "metadata": {},
     "output_type": "execute_result"
    }
   ],
   "execution_count": 15
  },
  {
   "metadata": {
    "ExecuteTime": {
     "end_time": "2024-10-16T06:18:24.076412Z",
     "start_time": "2024-10-16T06:18:24.072505Z"
    }
   },
   "cell_type": "code",
   "source": "a1.dtype,a2.dtype,a3.dtype",
   "id": "6288a7cedd2a469c",
   "outputs": [
    {
     "data": {
      "text/plain": [
       "(dtype('int64'), dtype('float64'), dtype('int64'))"
      ]
     },
     "execution_count": 16,
     "metadata": {},
     "output_type": "execute_result"
    }
   ],
   "execution_count": 16
  },
  {
   "metadata": {
    "ExecuteTime": {
     "end_time": "2024-10-16T06:18:34.344763Z",
     "start_time": "2024-10-16T06:18:34.339203Z"
    }
   },
   "cell_type": "code",
   "source": "a1.size,a2.size,a3.size",
   "id": "8cdc75c0eb8b863a",
   "outputs": [
    {
     "data": {
      "text/plain": [
       "(3, 6, 27)"
      ]
     },
     "execution_count": 17,
     "metadata": {},
     "output_type": "execute_result"
    }
   ],
   "execution_count": 17
  },
  {
   "metadata": {
    "ExecuteTime": {
     "end_time": "2024-10-16T06:19:08.764775Z",
     "start_time": "2024-10-16T06:19:08.760681Z"
    }
   },
   "cell_type": "code",
   "source": "a2",
   "id": "93f8b46f090720b1",
   "outputs": [
    {
     "data": {
      "text/plain": [
       "array([[1. , 2. , 3.3],\n",
       "       [4. , 5. , 6.5]])"
      ]
     },
     "execution_count": 18,
     "metadata": {},
     "output_type": "execute_result"
    }
   ],
   "execution_count": 18
  },
  {
   "metadata": {
    "ExecuteTime": {
     "end_time": "2024-10-16T06:20:43.280675Z",
     "start_time": "2024-10-16T06:20:43.273770Z"
    }
   },
   "cell_type": "code",
   "source": [
    "import pandas as pd\n",
    "df2=pd.DataFrame(a2)\n",
    "df2"
   ],
   "id": "32c9075414cd6309",
   "outputs": [
    {
     "data": {
      "text/plain": [
       "     0    1    2\n",
       "0  1.0  2.0  3.3\n",
       "1  4.0  5.0  6.5"
      ],
      "text/html": [
       "<div>\n",
       "<style scoped>\n",
       "    .dataframe tbody tr th:only-of-type {\n",
       "        vertical-align: middle;\n",
       "    }\n",
       "\n",
       "    .dataframe tbody tr th {\n",
       "        vertical-align: top;\n",
       "    }\n",
       "\n",
       "    .dataframe thead th {\n",
       "        text-align: right;\n",
       "    }\n",
       "</style>\n",
       "<table border=\"1\" class=\"dataframe\">\n",
       "  <thead>\n",
       "    <tr style=\"text-align: right;\">\n",
       "      <th></th>\n",
       "      <th>0</th>\n",
       "      <th>1</th>\n",
       "      <th>2</th>\n",
       "    </tr>\n",
       "  </thead>\n",
       "  <tbody>\n",
       "    <tr>\n",
       "      <th>0</th>\n",
       "      <td>1.0</td>\n",
       "      <td>2.0</td>\n",
       "      <td>3.3</td>\n",
       "    </tr>\n",
       "    <tr>\n",
       "      <th>1</th>\n",
       "      <td>4.0</td>\n",
       "      <td>5.0</td>\n",
       "      <td>6.5</td>\n",
       "    </tr>\n",
       "  </tbody>\n",
       "</table>\n",
       "</div>"
      ]
     },
     "execution_count": 20,
     "metadata": {},
     "output_type": "execute_result"
    }
   ],
   "execution_count": 20
  },
  {
   "metadata": {
    "ExecuteTime": {
     "end_time": "2024-10-16T06:22:59.417078Z",
     "start_time": "2024-10-16T06:22:59.412675Z"
    }
   },
   "cell_type": "code",
   "source": [
    "sample_array= np.array([1,2,3])\n",
    "sample_array.dtype"
   ],
   "id": "a3654325aa849421",
   "outputs": [
    {
     "data": {
      "text/plain": [
       "dtype('int64')"
      ]
     },
     "execution_count": 22,
     "metadata": {},
     "output_type": "execute_result"
    }
   ],
   "execution_count": 22
  },
  {
   "metadata": {
    "ExecuteTime": {
     "end_time": "2024-10-16T06:25:03.037281Z",
     "start_time": "2024-10-16T06:25:03.032331Z"
    }
   },
   "cell_type": "code",
   "source": [
    "ones=np.ones((2,3))\n",
    "ones"
   ],
   "id": "9564d1fbe34d0a98",
   "outputs": [
    {
     "data": {
      "text/plain": [
       "array([[1., 1., 1.],\n",
       "       [1., 1., 1.]])"
      ]
     },
     "execution_count": 26,
     "metadata": {},
     "output_type": "execute_result"
    }
   ],
   "execution_count": 26
  },
  {
   "metadata": {
    "ExecuteTime": {
     "end_time": "2024-10-16T06:26:27.800143Z",
     "start_time": "2024-10-16T06:26:27.795627Z"
    }
   },
   "cell_type": "code",
   "source": "zeros=np.zeros((2,3))",
   "id": "de5c6fd979269ed8",
   "outputs": [],
   "execution_count": 27
  },
  {
   "metadata": {
    "ExecuteTime": {
     "end_time": "2024-10-16T06:26:35.747593Z",
     "start_time": "2024-10-16T06:26:35.742569Z"
    }
   },
   "cell_type": "code",
   "source": "zeros",
   "id": "226b95ccad536073",
   "outputs": [
    {
     "data": {
      "text/plain": [
       "array([[0., 0., 0.],\n",
       "       [0., 0., 0.]])"
      ]
     },
     "execution_count": 28,
     "metadata": {},
     "output_type": "execute_result"
    }
   ],
   "execution_count": 28
  },
  {
   "metadata": {
    "ExecuteTime": {
     "end_time": "2024-10-16T06:27:06.931856Z",
     "start_time": "2024-10-16T06:27:06.926043Z"
    }
   },
   "cell_type": "code",
   "source": [
    "range_array=np.arange(0,10,2)\n",
    "range_array"
   ],
   "id": "f16ea23497ffc103",
   "outputs": [
    {
     "data": {
      "text/plain": [
       "array([0, 2, 4, 6, 8])"
      ]
     },
     "execution_count": 29,
     "metadata": {},
     "output_type": "execute_result"
    }
   ],
   "execution_count": 29
  },
  {
   "metadata": {
    "ExecuteTime": {
     "end_time": "2024-10-16T06:30:16.181565Z",
     "start_time": "2024-10-16T06:30:16.175052Z"
    }
   },
   "cell_type": "code",
   "source": [
    "# Generate a 3x5 array with random values between 0 and 10\n",
    "random_array = np.random.randint(0, 10, size=(3, 5))\n",
    "random_array\n"
   ],
   "id": "f2e3ba274cb15fcb",
   "outputs": [
    {
     "data": {
      "text/plain": [
       "array([[8, 6, 7, 4, 7],\n",
       "       [0, 0, 2, 6, 9],\n",
       "       [2, 7, 1, 2, 4]])"
      ]
     },
     "execution_count": 31,
     "metadata": {},
     "output_type": "execute_result"
    }
   ],
   "execution_count": 31
  },
  {
   "metadata": {
    "ExecuteTime": {
     "end_time": "2024-10-16T06:32:53.457651Z",
     "start_time": "2024-10-16T06:32:53.453562Z"
    }
   },
   "cell_type": "code",
   "source": [
    "# Generate a 3x5 array with random values between 0 and 10\n",
    "random_array1 = np.random.uniform(0, 10, size=(3, 5))\n",
    "random_array1\n"
   ],
   "id": "53f12e04b295b149",
   "outputs": [
    {
     "data": {
      "text/plain": [
       "array([[6.98542306, 5.75262572, 9.32037134, 7.41053137, 3.73247486],\n",
       "       [9.11433928, 8.76410829, 3.26618754, 1.18090187, 8.29281965],\n",
       "       [7.06864985, 6.14802519, 2.53629336, 9.63961744, 4.13543614]])"
      ]
     },
     "execution_count": 33,
     "metadata": {},
     "output_type": "execute_result"
    }
   ],
   "execution_count": 33
  },
  {
   "metadata": {
    "ExecuteTime": {
     "end_time": "2024-10-16T06:33:04.877842Z",
     "start_time": "2024-10-16T06:33:04.871186Z"
    }
   },
   "cell_type": "code",
   "source": "random_array.shape",
   "id": "206eb06a7b1b5aab",
   "outputs": [
    {
     "data": {
      "text/plain": [
       "(3, 5)"
      ]
     },
     "execution_count": 34,
     "metadata": {},
     "output_type": "execute_result"
    }
   ],
   "execution_count": 34
  },
  {
   "metadata": {
    "ExecuteTime": {
     "end_time": "2024-10-16T09:12:13.174298Z",
     "start_time": "2024-10-16T09:12:13.167855Z"
    }
   },
   "cell_type": "code",
   "source": [
    "# pseudo numbers\n",
    "np.random.seed(seed=0)\n",
    "random_array2 = np.random.randint(0, 10, size=(3, 5))\n",
    "random_array2"
   ],
   "id": "89c16facac24850f",
   "outputs": [
    {
     "data": {
      "text/plain": [
       "array([[5, 0, 3, 3, 7],\n",
       "       [9, 3, 5, 2, 4],\n",
       "       [7, 6, 8, 8, 1]])"
      ]
     },
     "execution_count": 39,
     "metadata": {},
     "output_type": "execute_result"
    }
   ],
   "execution_count": 39
  },
  {
   "metadata": {
    "ExecuteTime": {
     "end_time": "2024-10-16T09:12:43.964717Z",
     "start_time": "2024-10-16T09:12:43.957834Z"
    }
   },
   "cell_type": "code",
   "source": "np.unique(random_array2)",
   "id": "c334c6be22b74984",
   "outputs": [
    {
     "data": {
      "text/plain": [
       "array([0, 1, 2, 3, 4, 5, 6, 7, 8, 9])"
      ]
     },
     "execution_count": 40,
     "metadata": {},
     "output_type": "execute_result"
    }
   ],
   "execution_count": 40
  },
  {
   "metadata": {
    "ExecuteTime": {
     "end_time": "2024-10-16T09:13:17.411300Z",
     "start_time": "2024-10-16T09:13:17.408257Z"
    }
   },
   "cell_type": "code",
   "source": "a1",
   "id": "181d918766597997",
   "outputs": [
    {
     "data": {
      "text/plain": [
       "array([1, 2, 3])"
      ]
     },
     "execution_count": 41,
     "metadata": {},
     "output_type": "execute_result"
    }
   ],
   "execution_count": 41
  },
  {
   "metadata": {
    "ExecuteTime": {
     "end_time": "2024-10-16T09:13:19.860502Z",
     "start_time": "2024-10-16T09:13:19.855691Z"
    }
   },
   "cell_type": "code",
   "source": "a2",
   "id": "3d7e9198184a28eb",
   "outputs": [
    {
     "data": {
      "text/plain": [
       "array([[1. , 2. , 3.3],\n",
       "       [4. , 5. , 6.5]])"
      ]
     },
     "execution_count": 42,
     "metadata": {},
     "output_type": "execute_result"
    }
   ],
   "execution_count": 42
  },
  {
   "metadata": {
    "ExecuteTime": {
     "end_time": "2024-10-16T09:13:23.767512Z",
     "start_time": "2024-10-16T09:13:23.760722Z"
    }
   },
   "cell_type": "code",
   "source": "a3",
   "id": "b8eabb81b50c1786",
   "outputs": [
    {
     "data": {
      "text/plain": [
       "array([[[ 1,  2,  3],\n",
       "        [ 4,  5,  6],\n",
       "        [ 7,  8,  9]],\n",
       "\n",
       "       [[10, 11, 12],\n",
       "        [13, 14, 15],\n",
       "        [16, 17, 18]],\n",
       "\n",
       "       [[19, 20, 21],\n",
       "        [22, 23, 24],\n",
       "        [25, 26, 27]]])"
      ]
     },
     "execution_count": 43,
     "metadata": {},
     "output_type": "execute_result"
    }
   ],
   "execution_count": 43
  },
  {
   "metadata": {
    "ExecuteTime": {
     "end_time": "2024-10-16T09:15:34.165433Z",
     "start_time": "2024-10-16T09:15:34.160608Z"
    }
   },
   "cell_type": "code",
   "source": "a3[:3,:2,:2]",
   "id": "6be53966f4490b9b",
   "outputs": [
    {
     "data": {
      "text/plain": [
       "array([[[ 1,  2],\n",
       "        [ 4,  5]],\n",
       "\n",
       "       [[10, 11],\n",
       "        [13, 14]],\n",
       "\n",
       "       [[19, 20],\n",
       "        [22, 23]]])"
      ]
     },
     "execution_count": 47,
     "metadata": {},
     "output_type": "execute_result"
    }
   ],
   "execution_count": 47
  },
  {
   "metadata": {
    "ExecuteTime": {
     "end_time": "2024-10-16T09:16:24.526632Z",
     "start_time": "2024-10-16T09:16:24.518571Z"
    }
   },
   "cell_type": "code",
   "source": [
    "a4=np.random.randint(10,size=(2,3,4,5))\n",
    "a4"
   ],
   "id": "ce82a787e210ec33",
   "outputs": [
    {
     "data": {
      "text/plain": [
       "array([[[[6, 7, 7, 8, 1],\n",
       "         [5, 9, 8, 9, 4],\n",
       "         [3, 0, 3, 5, 0],\n",
       "         [2, 3, 8, 1, 3]],\n",
       "\n",
       "        [[3, 3, 7, 0, 1],\n",
       "         [9, 9, 0, 4, 7],\n",
       "         [3, 2, 7, 2, 0],\n",
       "         [0, 4, 5, 5, 6]],\n",
       "\n",
       "        [[8, 4, 1, 4, 9],\n",
       "         [8, 1, 1, 7, 9],\n",
       "         [9, 3, 6, 7, 2],\n",
       "         [0, 3, 5, 9, 4]]],\n",
       "\n",
       "\n",
       "       [[[4, 6, 4, 4, 3],\n",
       "         [4, 4, 8, 4, 3],\n",
       "         [7, 5, 5, 0, 1],\n",
       "         [5, 9, 3, 0, 5]],\n",
       "\n",
       "        [[0, 1, 2, 4, 2],\n",
       "         [0, 3, 2, 0, 7],\n",
       "         [5, 9, 0, 2, 7],\n",
       "         [2, 9, 2, 3, 3]],\n",
       "\n",
       "        [[2, 3, 4, 1, 2],\n",
       "         [9, 1, 4, 6, 8],\n",
       "         [2, 3, 0, 0, 6],\n",
       "         [0, 6, 3, 3, 8]]]])"
      ]
     },
     "execution_count": 48,
     "metadata": {},
     "output_type": "execute_result"
    }
   ],
   "execution_count": 48
  },
  {
   "metadata": {
    "ExecuteTime": {
     "end_time": "2024-10-16T09:17:40.298464Z",
     "start_time": "2024-10-16T09:17:40.294388Z"
    }
   },
   "cell_type": "code",
   "source": "a4.ndim",
   "id": "5343d5c002b244be",
   "outputs": [
    {
     "data": {
      "text/plain": [
       "4"
      ]
     },
     "execution_count": 53,
     "metadata": {},
     "output_type": "execute_result"
    }
   ],
   "execution_count": 53
  },
  {
   "metadata": {
    "ExecuteTime": {
     "end_time": "2024-10-16T09:29:45.916970Z",
     "start_time": "2024-10-16T09:29:45.908197Z"
    }
   },
   "cell_type": "code",
   "source": [
    "# Create two arrays\n",
    "a = np.array([1, 2, 3, 4])\n",
    "b = np.array([5, 6, 7, 8])\n",
    "\n",
    "# Addition\n",
    "add_result = a + b  # [6, 8, 10, 12]\n",
    "\n",
    "# Subtraction\n",
    "sub_result = a - b  # [-4, -4, -4, -4]\n",
    "\n",
    "# Multiplication\n",
    "mul_result = a * b  # [5, 12, 21, 32]\n",
    "\n",
    "# Division\n",
    "div_result = a / b  # [0.2, 0.333..., 0.428..., 0.5]\n",
    "\n",
    "print(add_result, sub_result, mul_result, div_result)\n"
   ],
   "id": "bac9d4572d7da054",
   "outputs": [
    {
     "name": "stdout",
     "output_type": "stream",
     "text": [
      "[ 6  8 10 12] [-4 -4 -4 -4] [ 5 12 21 32] [0.2        0.33333333 0.42857143 0.5       ]\n"
     ]
    }
   ],
   "execution_count": 54
  },
  {
   "metadata": {
    "ExecuteTime": {
     "end_time": "2024-10-16T09:30:21.957604Z",
     "start_time": "2024-10-16T09:30:21.953690Z"
    }
   },
   "cell_type": "code",
   "source": [
    "# Create an array\n",
    "a = np.array([10, 20, 30])\n",
    "\n",
    "# Addition\n",
    "add_scalar = a + 5  # [15, 25, 35]\n",
    "\n",
    "# Subtraction\n",
    "sub_scalar = a - 5  # [5, 15, 25]\n",
    "\n",
    "# Multiplication\n",
    "mul_scalar = a * 2  # [20, 40, 60]\n",
    "\n",
    "# Division\n",
    "div_scalar = a / 2  # [5, 10, 15]\n",
    "\n",
    "print(add_scalar, sub_scalar, mul_scalar, div_scalar)\n"
   ],
   "id": "f3f3ab78da34c3f",
   "outputs": [
    {
     "name": "stdout",
     "output_type": "stream",
     "text": [
      "[15 25 35] [ 5 15 25] [20 40 60] [ 5. 10. 15.]\n"
     ]
    }
   ],
   "execution_count": 55
  },
  {
   "metadata": {
    "ExecuteTime": {
     "end_time": "2024-10-16T09:30:44.785906Z",
     "start_time": "2024-10-16T09:30:44.780078Z"
    }
   },
   "cell_type": "code",
   "source": [
    "# Create a 2D array and a 1D array\n",
    "A = np.array([[1, 2, 3], [4, 5, 6]])\n",
    "B = np.array([1, 2, 3])\n",
    "\n",
    "# Broadcasting B across A\n",
    "broadcast_result = A + B\n",
    "\n",
    "print(broadcast_result)\n"
   ],
   "id": "e8f3ff526c588335",
   "outputs": [
    {
     "name": "stdout",
     "output_type": "stream",
     "text": [
      "[[2 4 6]\n",
      " [5 7 9]]\n"
     ]
    }
   ],
   "execution_count": 56
  },
  {
   "metadata": {
    "ExecuteTime": {
     "end_time": "2024-10-16T09:31:07.381565Z",
     "start_time": "2024-10-16T09:31:07.374568Z"
    }
   },
   "cell_type": "code",
   "source": [
    "# Square root\n",
    "sqrt_result = np.sqrt(np.array([4, 9, 16]))  # [2.0, 3.0, 4.0]\n",
    "\n",
    "# Exponentiation\n",
    "exp_result = np.power(np.array([2, 3, 4]), 2)  # [4, 9, 16]\n",
    "\n",
    "print(sqrt_result, exp_result)\n"
   ],
   "id": "2fb4b0f562fadd4c",
   "outputs": [
    {
     "name": "stdout",
     "output_type": "stream",
     "text": [
      "[2. 3. 4.] [ 4  9 16]\n"
     ]
    }
   ],
   "execution_count": 57
  },
  {
   "metadata": {
    "ExecuteTime": {
     "end_time": "2024-10-16T09:31:42.023547Z",
     "start_time": "2024-10-16T09:31:42.007577Z"
    }
   },
   "cell_type": "code",
   "source": [
    "# Create an array\n",
    "a = np.array([1, 2, 3, 4])\n",
    "\n",
    "# Sum of all elements\n",
    "sum_result = np.sum(a)  # 10\n",
    "\n",
    "# Mean of all elements\n",
    "mean_result = np.mean(a)  # 2.5\n",
    "\n",
    "# Minimum and maximum\n",
    "min_result = np.min(a)  # 1\n",
    "max_result = np.max(a)  # 4\n",
    "\n",
    "print(sum_result, mean_result, min_result, max_result)\n"
   ],
   "id": "f43345c6eefb2df6",
   "outputs": [
    {
     "name": "stdout",
     "output_type": "stream",
     "text": [
      "10 2.5 1 4\n"
     ]
    }
   ],
   "execution_count": 58
  },
  {
   "metadata": {
    "ExecuteTime": {
     "end_time": "2024-10-16T13:23:38.941556Z",
     "start_time": "2024-10-16T13:23:38.938133Z"
    }
   },
   "cell_type": "code",
   "source": [
    "high_var_array=np.array([1,100,200,500,4000,500000])\n",
    "low_var_array=np.array([1,4,5,8,14,18])\n",
    "print(np.var(high_var_array))\n",
    "print(np.var(low_var_array))"
   ],
   "id": "4cb3508540380081",
   "outputs": [
    {
     "name": "stdout",
     "output_type": "stream",
     "text": [
      "34590937511.25\n",
      "34.88888888888889\n"
     ]
    }
   ],
   "execution_count": 3
  },
  {
   "metadata": {
    "ExecuteTime": {
     "end_time": "2024-10-16T13:23:56.822643Z",
     "start_time": "2024-10-16T13:23:56.819043Z"
    }
   },
   "cell_type": "code",
   "source": "np.std(high_var_array),np.std(low_var_array)",
   "id": "6e72400767549cd4",
   "outputs": [
    {
     "data": {
      "text/plain": [
       "(185986.39066138683, 5.90668171555645)"
      ]
     },
     "execution_count": 4,
     "metadata": {},
     "output_type": "execute_result"
    }
   ],
   "execution_count": 4
  },
  {
   "metadata": {},
   "cell_type": "code",
   "outputs": [],
   "execution_count": null,
   "source": "",
   "id": "e3b269a922f8ee0"
  }
 ],
 "metadata": {
  "kernelspec": {
   "display_name": "Python 3",
   "language": "python",
   "name": "python3"
  },
  "language_info": {
   "codemirror_mode": {
    "name": "ipython",
    "version": 2
   },
   "file_extension": ".py",
   "mimetype": "text/x-python",
   "name": "python",
   "nbconvert_exporter": "python",
   "pygments_lexer": "ipython2",
   "version": "2.7.6"
  }
 },
 "nbformat": 4,
 "nbformat_minor": 5
}
